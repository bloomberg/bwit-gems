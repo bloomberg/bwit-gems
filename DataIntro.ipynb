{
 "cells": [
  {
   "cell_type": "markdown",
   "id": "c5936334",
   "metadata": {},
   "source": [
    "# 📊 Introduction to Python for Data"
   ]
  },
  {
   "cell_type": "markdown",
   "id": "c6d83189",
   "metadata": {},
   "source": [
    "## What is Data?"
   ]
  },
  {
   "cell_type": "markdown",
   "id": "e6478b7f",
   "metadata": {},
   "source": [
    "<b>Data</b> refers to a collection of facts, figures, or information. It is used to get a sample of information to understand a certain population. \n",
    "\n",
    "Some examples of collecting data include the following:\n",
    "- Surveys\n",
    "- Observations\n",
    "- Experiments\n",
    "- Photo and Video Collection"
   ]
  },
  {
   "cell_type": "markdown",
   "id": "fb959f63",
   "metadata": {},
   "source": [
    "### Now that we understand data, now let's create a <span style=\"color:purple\">variable</span> for our random data 🤡 of our own!"
   ]
  },
  {
   "cell_type": "markdown",
   "id": "d8203fb2",
   "metadata": {},
   "source": [
    "### 💡 **What is a <span style=\"color:purple\">variable</span> ?**\n",
    "> Variables are containers for storing data values. There are two types of variables:\n",
    ">> **Numerical** = numbers (ex: height, test score) <br> **Categorical** = groups (ex: favorite color, type of pet)"
   ]
  },
  {
   "cell_type": "code",
   "execution_count": 50,
   "id": "a6fd3451",
   "metadata": {},
   "outputs": [],
   "source": [
    "### Here is a random list of test scores on a math test.\n",
    "\n",
    "math_scores = [88, 92, 75, 85, 85, 78, 95, 83, 70, 87,\n",
    "          88, 93, 76, 89, 88, 91, 77, 88, 94, 82]"
   ]
  },
  {
   "cell_type": "markdown",
   "id": "a7be3ccf",
   "metadata": {},
   "source": [
    "## What is Statistics?\n",
    "\n",
    "<p1><b>Statistics</b> is a branch of mathematics. In the real-life, we can use a group of numbers to help us <b>understand the world</b> around us 🌎. </p1>\n",
    "\n",
    "Here is some questions we can answer (from micro-level 🔍 to macro-level 🔭) using the basic concepts of statistics:\n",
    "\n",
    "- How many hours a day on average do I spend on my phone?\n",
    "- Which sport do most middle schoolers play outside of gym class?\n",
    "- Who is the most listened to artist globally in 2024?\n",
    "\n",
    "<p1>When you're curious about how the world works, statistics gives you the tools to find real answers instead of just guessing.</p1>"
   ]
  },
  {
   "cell_type": "markdown",
   "id": "b75e4b10",
   "metadata": {},
   "source": [
    "## <span style=\"color:blue\">Icebreaker (5 min):</span> Come up with your own \"curiosity questions\" that can be answered with statistics."
   ]
  },
  {
   "cell_type": "markdown",
   "id": "07f0f7e3",
   "metadata": {},
   "source": [
    "### Now that our brains are activited 🧠, lets apply some basic statistic concepts using a python  <span style=\"color:orange\">library</span> 📚."
   ]
  },
  {
   "cell_type": "markdown",
   "id": "b9d1e00a",
   "metadata": {},
   "source": [
    "### 💡 **What is a <span style=\"color:orange\">library</span> ?**\n",
    "> A library is a collection of pre-written, reusable code that developers can use to perform specific tasks.\n",
    ">> Example of a library: [NumPy](https://numpy.org/doc/2.1/reference/routines.statistics.html): a fundamental library for scientific computing in Python (aka a super powerful calculator ⚡🧮)."
   ]
  },
  {
   "cell_type": "code",
   "execution_count": 51,
   "id": "489ec901",
   "metadata": {},
   "outputs": [],
   "source": [
    "#In order to use a library, we need to import it like this!\n",
    "import numpy as np"
   ]
  },
  {
   "cell_type": "markdown",
   "id": "c695e576",
   "metadata": {},
   "source": [
    "### Next, let's use <span style=\"color:green\">functions</span> 🧪 from the NumPy  <span style=\"color:orange\">library</span> 📚 to better understand our math_score <span style=\"color:purple\">variable</span>."
   ]
  },
  {
   "cell_type": "markdown",
   "id": "1d4ce3b1",
   "metadata": {},
   "source": [
    "### 💡 **What is a <span style=\"color:green\">function</span> ?**\n",
    "> A function is a resuable block of code. Example functions include the following:\n",
    ">> <b>np.min():</b> finds the smallest number in a list. <br><b>np.max():</b> finds the biggest number in a list."
   ]
  },
  {
   "cell_type": "markdown",
   "id": "10f1383b",
   "metadata": {},
   "source": [
    "[ Input ]  →  [  Function Machine  ]  →  [ Output ]\n",
    "<br>[3,7,1,4]  \"Find the smallest number in the list\"       1"
   ]
  },
  {
   "cell_type": "code",
   "execution_count": 55,
   "id": "d79037cb",
   "metadata": {},
   "outputs": [
    {
     "name": "stdout",
     "output_type": "stream",
     "text": [
      "Help on function amin in module numpy:\n",
      "\n",
      "amin(a, axis=None, out=None, keepdims=<no value>, initial=<no value>, where=<no value>)\n",
      "    Return the minimum of an array or minimum along an axis.\n",
      "    \n",
      "    Parameters\n",
      "    ----------\n",
      "    a : array_like\n",
      "        Input data.\n",
      "    axis : None or int or tuple of ints, optional\n",
      "        Axis or axes along which to operate.  By default, flattened input is\n",
      "        used.\n",
      "    \n",
      "        .. versionadded:: 1.7.0\n",
      "    \n",
      "        If this is a tuple of ints, the minimum is selected over multiple axes,\n",
      "        instead of a single axis or all the axes as before.\n",
      "    out : ndarray, optional\n",
      "        Alternative output array in which to place the result.  Must\n",
      "        be of the same shape and buffer length as the expected output.\n",
      "        See :ref:`ufuncs-output-type` for more details.\n",
      "    \n",
      "    keepdims : bool, optional\n",
      "        If this is set to True, the axes which are reduced are left\n",
      "        in the result as dimensions with size one. With this option,\n",
      "        the result will broadcast correctly against the input array.\n",
      "    \n",
      "        If the default value is passed, then `keepdims` will not be\n",
      "        passed through to the `amin` method of sub-classes of\n",
      "        `ndarray`, however any non-default value will be.  If the\n",
      "        sub-class' method does not implement `keepdims` any\n",
      "        exceptions will be raised.\n",
      "    \n",
      "    initial : scalar, optional\n",
      "        The maximum value of an output element. Must be present to allow\n",
      "        computation on empty slice. See `~numpy.ufunc.reduce` for details.\n",
      "    \n",
      "        .. versionadded:: 1.15.0\n",
      "    \n",
      "    where : array_like of bool, optional\n",
      "        Elements to compare for the minimum. See `~numpy.ufunc.reduce`\n",
      "        for details.\n",
      "    \n",
      "        .. versionadded:: 1.17.0\n",
      "    \n",
      "    Returns\n",
      "    -------\n",
      "    amin : ndarray or scalar\n",
      "        Minimum of `a`. If `axis` is None, the result is a scalar value.\n",
      "        If `axis` is given, the result is an array of dimension\n",
      "        ``a.ndim - 1``.\n",
      "    \n",
      "    See Also\n",
      "    --------\n",
      "    amax :\n",
      "        The maximum value of an array along a given axis, propagating any NaNs.\n",
      "    nanmin :\n",
      "        The minimum value of an array along a given axis, ignoring any NaNs.\n",
      "    minimum :\n",
      "        Element-wise minimum of two arrays, propagating any NaNs.\n",
      "    fmin :\n",
      "        Element-wise minimum of two arrays, ignoring any NaNs.\n",
      "    argmin :\n",
      "        Return the indices of the minimum values.\n",
      "    \n",
      "    nanmax, maximum, fmax\n",
      "    \n",
      "    Notes\n",
      "    -----\n",
      "    NaN values are propagated, that is if at least one item is NaN, the\n",
      "    corresponding min value will be NaN as well. To ignore NaN values\n",
      "    (MATLAB behavior), please use nanmin.\n",
      "    \n",
      "    Don't use `amin` for element-wise comparison of 2 arrays; when\n",
      "    ``a.shape[0]`` is 2, ``minimum(a[0], a[1])`` is faster than\n",
      "    ``amin(a, axis=0)``.\n",
      "    \n",
      "    Examples\n",
      "    --------\n",
      "    >>> a = np.arange(4).reshape((2,2))\n",
      "    >>> a\n",
      "    array([[0, 1],\n",
      "           [2, 3]])\n",
      "    >>> np.amin(a)           # Minimum of the flattened array\n",
      "    0\n",
      "    >>> np.amin(a, axis=0)   # Minima along the first axis\n",
      "    array([0, 1])\n",
      "    >>> np.amin(a, axis=1)   # Minima along the second axis\n",
      "    array([0, 2])\n",
      "    >>> np.amin(a, where=[False, True], initial=10, axis=0)\n",
      "    array([10,  1])\n",
      "    \n",
      "    >>> b = np.arange(5, dtype=float)\n",
      "    >>> b[2] = np.NaN\n",
      "    >>> np.amin(b)\n",
      "    nan\n",
      "    >>> np.amin(b, where=~np.isnan(b), initial=10)\n",
      "    0.0\n",
      "    >>> np.nanmin(b)\n",
      "    0.0\n",
      "    \n",
      "    >>> np.min([[-50], [10]], axis=-1, initial=0)\n",
      "    array([-50,   0])\n",
      "    \n",
      "    Notice that the initial value is used as one of the elements for which the\n",
      "    minimum is determined, unlike for the default argument Python's max\n",
      "    function, which is only used for empty iterables.\n",
      "    \n",
      "    Notice that this isn't the same as Python's ``default`` argument.\n",
      "    \n",
      "    >>> np.min([6], initial=5)\n",
      "    5\n",
      "    >>> min([6], default=5)\n",
      "    6\n",
      "\n"
     ]
    }
   ],
   "source": [
    "#Tip: You can apply the \"help\" function on top of any function to better understand what it does!\n",
    "help(np.min)"
   ]
  },
  {
   "cell_type": "code",
   "execution_count": 56,
   "id": "c150de53",
   "metadata": {},
   "outputs": [
    {
     "name": "stdout",
     "output_type": "stream",
     "text": [
      "Mean (average): 85.2\n"
     ]
    }
   ],
   "source": [
    "# Calculate mean\n",
    "mean_score = np.mean(math_scores)\n",
    "\n",
    "# Print the results\n",
    "print(f\"Mean (average): {mean_score}\")"
   ]
  },
  {
   "cell_type": "code",
   "execution_count": 58,
   "id": "cf760aea",
   "metadata": {},
   "outputs": [],
   "source": [
    "#Your turn! Let's calculate the median using the np.median() function\n",
    "\n",
    "#Calculate median\n",
    "\n",
    "#Print the results\n"
   ]
  },
  {
   "cell_type": "markdown",
   "id": "ab3bff42",
   "metadata": {},
   "source": [
    "### ❗ Sometimes, you may need a couple <span style=\"color:green\">functions</span> from a <span style=\"color:orange\">library</span> to get exactly what you need."
   ]
  },
  {
   "cell_type": "code",
   "execution_count": 68,
   "id": "fdf09eb1",
   "metadata": {},
   "outputs": [
    {
     "name": "stdout",
     "output_type": "stream",
     "text": [
      "Frequency of scores:\n",
      "[[70  1]\n",
      " [75  1]\n",
      " [76  1]\n",
      " [77  1]\n",
      " [78  1]\n",
      " [82  1]\n",
      " [83  1]\n",
      " [85  2]\n",
      " [87  1]\n",
      " [88  4]\n",
      " [89  1]\n",
      " [91  1]\n",
      " [92  1]\n",
      " [93  1]\n",
      " [94  1]\n",
      " [95  1]]\n",
      "\n",
      "Mode (most frequent value): 88\n"
     ]
    }
   ],
   "source": [
    "# Calculate mode manually (most frequent number)\n",
    "values, counts = np.unique(math_scores, return_counts=True)\n",
    "\n",
    "table = np.column_stack((values, counts))\n",
    "print(\"Frequency of scores:\")\n",
    "print(table)\n",
    "\n",
    "mode_score = values[np.argmax(counts)]\n",
    "\n",
    "print(f\"\\nMode (most frequent value): {mode_score}\")"
   ]
  },
  {
   "cell_type": "code",
   "execution_count": null,
   "id": "58455828",
   "metadata": {},
   "outputs": [],
   "source": []
  }
 ],
 "metadata": {
  "kernelspec": {
   "display_name": "Python 3 (ipykernel)",
   "language": "python",
   "name": "python3"
  },
  "language_info": {
   "codemirror_mode": {
    "name": "ipython",
    "version": 3
   },
   "file_extension": ".py",
   "mimetype": "text/x-python",
   "name": "python",
   "nbconvert_exporter": "python",
   "pygments_lexer": "ipython3",
   "version": "3.7.17"
  }
 },
 "nbformat": 4,
 "nbformat_minor": 5
}
