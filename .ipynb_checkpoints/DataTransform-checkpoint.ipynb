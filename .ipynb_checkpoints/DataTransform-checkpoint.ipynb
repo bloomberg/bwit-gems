{
 "cells": [
  {
   "cell_type": "code",
   "execution_count": 1,
   "id": "6f90e4fc",
   "metadata": {},
   "outputs": [],
   "source": [
    "import csv\n",
    "\n",
    "headers = [\"Favorite Genre\", \"Pop Rating\", \"Hip Hop Rating\", \"Rock Rating\", \"Country Rating\", \"R&B/Soul Rating\", \"Classical Rating\", \"K-Pop Rating\", \"EDM Rating\", \"Jazz Rating\", \"Indie Rating\", \"Time of Day\", \"Number of Hours\", \"Music App\", \"Favorite Artist\"]\n",
    "emotions = [\"Happy\", \"Energetic\", \"Relaxed\", \"Focused\", \"Sad\", \"Confident\", \"Inspired\", \"Nostalgic\"]\n",
    "\n",
    "raw_data = []\n",
    "transformed_data = []\n",
    "\n",
    "with open('raw_data.csv', 'r') as file:\n",
    "    csv_reader = csv.reader(file)\n",
    "    for row in csv_reader:\n",
    "        raw_data.append(row)\n",
    "raw_data.pop(0)\n",
    "\n",
    "for row in raw_data:\n",
    "    new_row = []\n",
    "    new_row.append(row[1].replace(\" / \", \"/\"))\n",
    "    for i in range(10):\n",
    "        if row[i + 2]:\n",
    "            new_row.append(row[i + 2])\n",
    "        else:\n",
    "            new_row.append(\"1\")\n",
    "    new_row.append(row[12].split(\" (\")[0])\n",
    "    for i in range(2):\n",
    "        new_row.append(row[i + 13])\n",
    "    new_row.append(row[15].strip().title())\n",
    "    row_emotions = [x[:-2] for x in row[16].split(\", \")]\n",
    "    for emotion in emotions:\n",
    "        if emotion in row_emotions:\n",
    "            new_row.append(True)\n",
    "        else:\n",
    "            new_row.append(False)\n",
    "    transformed_data.append(new_row)\n",
    "\n",
    "extended_data = []\n",
    "headers.extend(emotions)\n",
    "extended_data.append(headers)\n",
    "for i in range(15):\n",
    "    extended_data.extend(transformed_data)\n",
    "\n",
    "with open('music_data.csv', 'w') as csvfile:\n",
    "    csvfile.seek(0)\n",
    "    csvfile.truncate()\n",
    "    writer = csv.writer(csvfile)\n",
    "    writer.writerows(extended_data)\n",
    "    "
   ]
  },
  {
   "cell_type": "code",
   "execution_count": null,
   "id": "1fad1bfa",
   "metadata": {},
   "outputs": [],
   "source": []
  }
 ],
 "metadata": {
  "kernelspec": {
   "display_name": "Python 3 (ipykernel)",
   "language": "python",
   "name": "python3"
  },
  "language_info": {
   "codemirror_mode": {
    "name": "ipython",
    "version": 3
   },
   "file_extension": ".py",
   "mimetype": "text/x-python",
   "name": "python",
   "nbconvert_exporter": "python",
   "pygments_lexer": "ipython3",
   "version": "3.7.17"
  }
 },
 "nbformat": 4,
 "nbformat_minor": 5
}
